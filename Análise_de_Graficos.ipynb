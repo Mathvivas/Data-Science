{
  "nbformat": 4,
  "nbformat_minor": 0,
  "metadata": {
    "colab": {
      "name": "Análise_de_Graficos.ipynb",
      "provenance": [],
      "collapsed_sections": [],
      "mount_file_id": "1xbHH0BUrHVjheqnLLpQySyJ2BCIWFUQO",
      "authorship_tag": "ABX9TyPVueS9GvFdKDES9z57n2Ye"
    },
    "kernelspec": {
      "name": "python3",
      "display_name": "Python 3"
    },
    "language_info": {
      "name": "python"
    }
  },
  "cells": [
    {
      "cell_type": "markdown",
      "metadata": {
        "id": "B8D1K6lSWg1U"
      },
      "source": [
        "# Trabalhando com Gráficos\n",
        "\n"
      ]
    },
    {
      "cell_type": "markdown",
      "metadata": {
        "id": "Q3dRK4MMWjbY"
      },
      "source": [
        "## Importanto a Base de Dados"
      ]
    },
    {
      "cell_type": "code",
      "metadata": {
        "id": "4yduq-UhRydj"
      },
      "source": [
        "import pandas as pd # data processing, CSV file I/O (e.g. pd.read_csv)\n",
        "%matplotlib inline\n",
        "import matplotlib.pyplot as plt\n",
        "plt.rc('figure', figsize = (20, 8))"
      ],
      "execution_count": 6,
      "outputs": []
    },
    {
      "cell_type": "code",
      "metadata": {
        "colab": {
          "base_uri": "https://localhost:8080/",
          "height": 419
        },
        "id": "-shQcDKoS7u_",
        "outputId": "d3e674ad-6d44-4934-d528-8f4b81b8e22b"
      },
      "source": [
        "dados = pd.read_csv('/content/drive/MyDrive/Colab Notebooks/Dados/aluguel_residencial.csv', sep = ';')\n",
        "dados"
      ],
      "execution_count": 7,
      "outputs": [
        {
          "output_type": "execute_result",
          "data": {
            "text/html": [
              "<div>\n",
              "<style scoped>\n",
              "    .dataframe tbody tr th:only-of-type {\n",
              "        vertical-align: middle;\n",
              "    }\n",
              "\n",
              "    .dataframe tbody tr th {\n",
              "        vertical-align: top;\n",
              "    }\n",
              "\n",
              "    .dataframe thead th {\n",
              "        text-align: right;\n",
              "    }\n",
              "</style>\n",
              "<table border=\"1\" class=\"dataframe\">\n",
              "  <thead>\n",
              "    <tr style=\"text-align: right;\">\n",
              "      <th></th>\n",
              "      <th>Tipo</th>\n",
              "      <th>Bairro</th>\n",
              "      <th>Quartos</th>\n",
              "      <th>Vagas</th>\n",
              "      <th>Suites</th>\n",
              "      <th>Area</th>\n",
              "      <th>Valor</th>\n",
              "      <th>Condominio</th>\n",
              "      <th>IPTU</th>\n",
              "    </tr>\n",
              "  </thead>\n",
              "  <tbody>\n",
              "    <tr>\n",
              "      <th>0</th>\n",
              "      <td>Quitinete</td>\n",
              "      <td>Copacabana</td>\n",
              "      <td>1</td>\n",
              "      <td>0</td>\n",
              "      <td>0</td>\n",
              "      <td>40</td>\n",
              "      <td>1700.0</td>\n",
              "      <td>500.0</td>\n",
              "      <td>60.0</td>\n",
              "    </tr>\n",
              "    <tr>\n",
              "      <th>1</th>\n",
              "      <td>Casa</td>\n",
              "      <td>Jardim Botânico</td>\n",
              "      <td>2</td>\n",
              "      <td>0</td>\n",
              "      <td>1</td>\n",
              "      <td>100</td>\n",
              "      <td>7000.0</td>\n",
              "      <td>NaN</td>\n",
              "      <td>NaN</td>\n",
              "    </tr>\n",
              "    <tr>\n",
              "      <th>2</th>\n",
              "      <td>Apartamento</td>\n",
              "      <td>Centro</td>\n",
              "      <td>1</td>\n",
              "      <td>0</td>\n",
              "      <td>0</td>\n",
              "      <td>15</td>\n",
              "      <td>800.0</td>\n",
              "      <td>390.0</td>\n",
              "      <td>20.0</td>\n",
              "    </tr>\n",
              "    <tr>\n",
              "      <th>3</th>\n",
              "      <td>Apartamento</td>\n",
              "      <td>Higienópolis</td>\n",
              "      <td>1</td>\n",
              "      <td>0</td>\n",
              "      <td>0</td>\n",
              "      <td>48</td>\n",
              "      <td>800.0</td>\n",
              "      <td>230.0</td>\n",
              "      <td>NaN</td>\n",
              "    </tr>\n",
              "    <tr>\n",
              "      <th>4</th>\n",
              "      <td>Apartamento</td>\n",
              "      <td>Vista Alegre</td>\n",
              "      <td>3</td>\n",
              "      <td>1</td>\n",
              "      <td>0</td>\n",
              "      <td>70</td>\n",
              "      <td>1200.0</td>\n",
              "      <td>NaN</td>\n",
              "      <td>NaN</td>\n",
              "    </tr>\n",
              "    <tr>\n",
              "      <th>...</th>\n",
              "      <td>...</td>\n",
              "      <td>...</td>\n",
              "      <td>...</td>\n",
              "      <td>...</td>\n",
              "      <td>...</td>\n",
              "      <td>...</td>\n",
              "      <td>...</td>\n",
              "      <td>...</td>\n",
              "      <td>...</td>\n",
              "    </tr>\n",
              "    <tr>\n",
              "      <th>22575</th>\n",
              "      <td>Apartamento</td>\n",
              "      <td>Méier</td>\n",
              "      <td>2</td>\n",
              "      <td>0</td>\n",
              "      <td>0</td>\n",
              "      <td>70</td>\n",
              "      <td>900.0</td>\n",
              "      <td>490.0</td>\n",
              "      <td>48.0</td>\n",
              "    </tr>\n",
              "    <tr>\n",
              "      <th>22576</th>\n",
              "      <td>Quitinete</td>\n",
              "      <td>Centro</td>\n",
              "      <td>0</td>\n",
              "      <td>0</td>\n",
              "      <td>0</td>\n",
              "      <td>27</td>\n",
              "      <td>800.0</td>\n",
              "      <td>350.0</td>\n",
              "      <td>25.0</td>\n",
              "    </tr>\n",
              "    <tr>\n",
              "      <th>22577</th>\n",
              "      <td>Apartamento</td>\n",
              "      <td>Jacarepaguá</td>\n",
              "      <td>3</td>\n",
              "      <td>1</td>\n",
              "      <td>2</td>\n",
              "      <td>78</td>\n",
              "      <td>1800.0</td>\n",
              "      <td>800.0</td>\n",
              "      <td>40.0</td>\n",
              "    </tr>\n",
              "    <tr>\n",
              "      <th>22578</th>\n",
              "      <td>Apartamento</td>\n",
              "      <td>São Francisco Xavier</td>\n",
              "      <td>2</td>\n",
              "      <td>1</td>\n",
              "      <td>0</td>\n",
              "      <td>48</td>\n",
              "      <td>1400.0</td>\n",
              "      <td>509.0</td>\n",
              "      <td>37.0</td>\n",
              "    </tr>\n",
              "    <tr>\n",
              "      <th>22579</th>\n",
              "      <td>Apartamento</td>\n",
              "      <td>Leblon</td>\n",
              "      <td>2</td>\n",
              "      <td>0</td>\n",
              "      <td>0</td>\n",
              "      <td>70</td>\n",
              "      <td>3000.0</td>\n",
              "      <td>760.0</td>\n",
              "      <td>NaN</td>\n",
              "    </tr>\n",
              "  </tbody>\n",
              "</table>\n",
              "<p>22580 rows × 9 columns</p>\n",
              "</div>"
            ],
            "text/plain": [
              "              Tipo                Bairro  Quartos  ...   Valor  Condominio  IPTU\n",
              "0        Quitinete            Copacabana        1  ...  1700.0       500.0  60.0\n",
              "1             Casa       Jardim Botânico        2  ...  7000.0         NaN   NaN\n",
              "2      Apartamento                Centro        1  ...   800.0       390.0  20.0\n",
              "3      Apartamento          Higienópolis        1  ...   800.0       230.0   NaN\n",
              "4      Apartamento          Vista Alegre        3  ...  1200.0         NaN   NaN\n",
              "...            ...                   ...      ...  ...     ...         ...   ...\n",
              "22575  Apartamento                 Méier        2  ...   900.0       490.0  48.0\n",
              "22576    Quitinete                Centro        0  ...   800.0       350.0  25.0\n",
              "22577  Apartamento           Jacarepaguá        3  ...  1800.0       800.0  40.0\n",
              "22578  Apartamento  São Francisco Xavier        2  ...  1400.0       509.0  37.0\n",
              "22579  Apartamento                Leblon        2  ...  3000.0       760.0   NaN\n",
              "\n",
              "[22580 rows x 9 columns]"
            ]
          },
          "metadata": {
            "tags": []
          },
          "execution_count": 7
        }
      ]
    },
    {
      "cell_type": "code",
      "metadata": {
        "id": "bQCFCahYWtOG"
      },
      "source": [
        "bairros = ['Barra da Tijuca', 'Copacabana', 'Ipanema', 'Leblon', 'Botafogo', 'Flamengo', 'Tijuca']\n",
        "selecao = dados['Bairro'].isin(bairros)\n",
        "dados_bairro = dados[selecao]"
      ],
      "execution_count": 8,
      "outputs": []
    },
    {
      "cell_type": "code",
      "metadata": {
        "colab": {
          "base_uri": "https://localhost:8080/",
          "height": 419
        },
        "id": "t7hVK8E7XG4r",
        "outputId": "4c52d843-d576-4458-8044-7d94fa89d1c4"
      },
      "source": [
        "dados_bairro"
      ],
      "execution_count": 9,
      "outputs": [
        {
          "output_type": "execute_result",
          "data": {
            "text/html": [
              "<div>\n",
              "<style scoped>\n",
              "    .dataframe tbody tr th:only-of-type {\n",
              "        vertical-align: middle;\n",
              "    }\n",
              "\n",
              "    .dataframe tbody tr th {\n",
              "        vertical-align: top;\n",
              "    }\n",
              "\n",
              "    .dataframe thead th {\n",
              "        text-align: right;\n",
              "    }\n",
              "</style>\n",
              "<table border=\"1\" class=\"dataframe\">\n",
              "  <thead>\n",
              "    <tr style=\"text-align: right;\">\n",
              "      <th></th>\n",
              "      <th>Tipo</th>\n",
              "      <th>Bairro</th>\n",
              "      <th>Quartos</th>\n",
              "      <th>Vagas</th>\n",
              "      <th>Suites</th>\n",
              "      <th>Area</th>\n",
              "      <th>Valor</th>\n",
              "      <th>Condominio</th>\n",
              "      <th>IPTU</th>\n",
              "    </tr>\n",
              "  </thead>\n",
              "  <tbody>\n",
              "    <tr>\n",
              "      <th>0</th>\n",
              "      <td>Quitinete</td>\n",
              "      <td>Copacabana</td>\n",
              "      <td>1</td>\n",
              "      <td>0</td>\n",
              "      <td>0</td>\n",
              "      <td>40</td>\n",
              "      <td>1700.0</td>\n",
              "      <td>500.0</td>\n",
              "      <td>60.0</td>\n",
              "    </tr>\n",
              "    <tr>\n",
              "      <th>6</th>\n",
              "      <td>Casa de Condomínio</td>\n",
              "      <td>Barra da Tijuca</td>\n",
              "      <td>5</td>\n",
              "      <td>4</td>\n",
              "      <td>5</td>\n",
              "      <td>750</td>\n",
              "      <td>22000.0</td>\n",
              "      <td>NaN</td>\n",
              "      <td>NaN</td>\n",
              "    </tr>\n",
              "    <tr>\n",
              "      <th>11</th>\n",
              "      <td>Apartamento</td>\n",
              "      <td>Copacabana</td>\n",
              "      <td>1</td>\n",
              "      <td>0</td>\n",
              "      <td>1</td>\n",
              "      <td>40</td>\n",
              "      <td>2000.0</td>\n",
              "      <td>561.0</td>\n",
              "      <td>50.0</td>\n",
              "    </tr>\n",
              "    <tr>\n",
              "      <th>12</th>\n",
              "      <td>Quitinete</td>\n",
              "      <td>Copacabana</td>\n",
              "      <td>1</td>\n",
              "      <td>0</td>\n",
              "      <td>0</td>\n",
              "      <td>27</td>\n",
              "      <td>1800.0</td>\n",
              "      <td>501.0</td>\n",
              "      <td>NaN</td>\n",
              "    </tr>\n",
              "    <tr>\n",
              "      <th>13</th>\n",
              "      <td>Apartamento</td>\n",
              "      <td>Copacabana</td>\n",
              "      <td>4</td>\n",
              "      <td>3</td>\n",
              "      <td>1</td>\n",
              "      <td>243</td>\n",
              "      <td>13000.0</td>\n",
              "      <td>2000.0</td>\n",
              "      <td>803.0</td>\n",
              "    </tr>\n",
              "    <tr>\n",
              "      <th>...</th>\n",
              "      <td>...</td>\n",
              "      <td>...</td>\n",
              "      <td>...</td>\n",
              "      <td>...</td>\n",
              "      <td>...</td>\n",
              "      <td>...</td>\n",
              "      <td>...</td>\n",
              "      <td>...</td>\n",
              "      <td>...</td>\n",
              "    </tr>\n",
              "    <tr>\n",
              "      <th>22570</th>\n",
              "      <td>Apartamento</td>\n",
              "      <td>Leblon</td>\n",
              "      <td>3</td>\n",
              "      <td>0</td>\n",
              "      <td>1</td>\n",
              "      <td>80</td>\n",
              "      <td>3000.0</td>\n",
              "      <td>1010.0</td>\n",
              "      <td>249.0</td>\n",
              "    </tr>\n",
              "    <tr>\n",
              "      <th>22571</th>\n",
              "      <td>Apartamento</td>\n",
              "      <td>Ipanema</td>\n",
              "      <td>3</td>\n",
              "      <td>1</td>\n",
              "      <td>2</td>\n",
              "      <td>150</td>\n",
              "      <td>15000.0</td>\n",
              "      <td>1400.0</td>\n",
              "      <td>600.0</td>\n",
              "    </tr>\n",
              "    <tr>\n",
              "      <th>22572</th>\n",
              "      <td>Apartamento</td>\n",
              "      <td>Tijuca</td>\n",
              "      <td>1</td>\n",
              "      <td>0</td>\n",
              "      <td>0</td>\n",
              "      <td>28</td>\n",
              "      <td>1000.0</td>\n",
              "      <td>360.0</td>\n",
              "      <td>25.0</td>\n",
              "    </tr>\n",
              "    <tr>\n",
              "      <th>22574</th>\n",
              "      <td>Casa de Condomínio</td>\n",
              "      <td>Barra da Tijuca</td>\n",
              "      <td>5</td>\n",
              "      <td>3</td>\n",
              "      <td>4</td>\n",
              "      <td>450</td>\n",
              "      <td>15000.0</td>\n",
              "      <td>1711.0</td>\n",
              "      <td>2332.0</td>\n",
              "    </tr>\n",
              "    <tr>\n",
              "      <th>22579</th>\n",
              "      <td>Apartamento</td>\n",
              "      <td>Leblon</td>\n",
              "      <td>2</td>\n",
              "      <td>0</td>\n",
              "      <td>0</td>\n",
              "      <td>70</td>\n",
              "      <td>3000.0</td>\n",
              "      <td>760.0</td>\n",
              "      <td>NaN</td>\n",
              "    </tr>\n",
              "  </tbody>\n",
              "</table>\n",
              "<p>12485 rows × 9 columns</p>\n",
              "</div>"
            ],
            "text/plain": [
              "                     Tipo           Bairro  ...  Condominio    IPTU\n",
              "0               Quitinete       Copacabana  ...       500.0    60.0\n",
              "6      Casa de Condomínio  Barra da Tijuca  ...         NaN     NaN\n",
              "11            Apartamento       Copacabana  ...       561.0    50.0\n",
              "12              Quitinete       Copacabana  ...       501.0     NaN\n",
              "13            Apartamento       Copacabana  ...      2000.0   803.0\n",
              "...                   ...              ...  ...         ...     ...\n",
              "22570         Apartamento           Leblon  ...      1010.0   249.0\n",
              "22571         Apartamento          Ipanema  ...      1400.0   600.0\n",
              "22572         Apartamento           Tijuca  ...       360.0    25.0\n",
              "22574  Casa de Condomínio  Barra da Tijuca  ...      1711.0  2332.0\n",
              "22579         Apartamento           Leblon  ...       760.0     NaN\n",
              "\n",
              "[12485 rows x 9 columns]"
            ]
          },
          "metadata": {
            "tags": []
          },
          "execution_count": 9
        }
      ]
    },
    {
      "cell_type": "markdown",
      "metadata": {
        "id": "yggOAQBH8JN8"
      },
      "source": [
        "## Distribuição de Frequência"
      ]
    },
    {
      "cell_type": "code",
      "metadata": {
        "id": "KGQkHHMvXPdV"
      },
      "source": [
        "# Frequência de Quartos\n",
        "# 1 e 2\n",
        "# 3 e 4\n",
        "# 5 e 6\n",
        "# 7 ou mais\n",
        "classes = [0, 2, 4, 6, 15]  # Limites de cada classe"
      ],
      "execution_count": 10,
      "outputs": []
    },
    {
      "cell_type": "code",
      "metadata": {
        "colab": {
          "base_uri": "https://localhost:8080/"
        },
        "id": "K1uieoINlKnm",
        "outputId": "f87f25fa-b8fd-4682-a34a-b5fdfec55ba3"
      },
      "source": [
        "quartos = pd.cut(dados.Quartos, classes)\n",
        "quartos"
      ],
      "execution_count": 11,
      "outputs": [
        {
          "output_type": "execute_result",
          "data": {
            "text/plain": [
              "0        (0.0, 2.0]\n",
              "1        (0.0, 2.0]\n",
              "2        (0.0, 2.0]\n",
              "3        (0.0, 2.0]\n",
              "4        (2.0, 4.0]\n",
              "            ...    \n",
              "22575    (0.0, 2.0]\n",
              "22576           NaN\n",
              "22577    (2.0, 4.0]\n",
              "22578    (0.0, 2.0]\n",
              "22579    (0.0, 2.0]\n",
              "Name: Quartos, Length: 22580, dtype: category\n",
              "Categories (4, interval[int64]): [(0, 2] < (2, 4] < (4, 6] < (6, 15]]"
            ]
          },
          "metadata": {
            "tags": []
          },
          "execution_count": 11
        }
      ]
    },
    {
      "cell_type": "code",
      "metadata": {
        "colab": {
          "base_uri": "https://localhost:8080/"
        },
        "id": "nQAKNL4d_H8C",
        "outputId": "185dfdec-6937-4585-8153-b51a9bec6c98"
      },
      "source": [
        "pd.value_counts(quartos)"
      ],
      "execution_count": 12,
      "outputs": [
        {
          "output_type": "execute_result",
          "data": {
            "text/plain": [
              "(0, 2]     11814\n",
              "(2, 4]      9860\n",
              "(4, 6]       689\n",
              "(6, 15]       51\n",
              "Name: Quartos, dtype: int64"
            ]
          },
          "metadata": {
            "tags": []
          },
          "execution_count": 12
        }
      ]
    },
    {
      "cell_type": "code",
      "metadata": {
        "colab": {
          "base_uri": "https://localhost:8080/"
        },
        "id": "gFdnu7oG_Kmg",
        "outputId": "244836de-3948-49b6-e66b-96edb4b3fd61"
      },
      "source": [
        "labels = ['1 e 2 quartos', '3 e 4 quartos', '5 e 6 quartos', '7 quartos ou mais']\n",
        "quartos = pd.cut(dados.Quartos, classes, labels = labels)\n",
        "pd.value_counts(quartos)"
      ],
      "execution_count": 13,
      "outputs": [
        {
          "output_type": "execute_result",
          "data": {
            "text/plain": [
              "1 e 2 quartos        11814\n",
              "3 e 4 quartos         9860\n",
              "5 e 6 quartos          689\n",
              "7 quartos ou mais       51\n",
              "Name: Quartos, dtype: int64"
            ]
          },
          "metadata": {
            "tags": []
          },
          "execution_count": 13
        }
      ]
    },
    {
      "cell_type": "markdown",
      "metadata": {
        "id": "8r7mCL27AgWu"
      },
      "source": [
        "## Boxplot"
      ]
    },
    {
      "cell_type": "code",
      "metadata": {
        "colab": {
          "base_uri": "https://localhost:8080/",
          "height": 511
        },
        "id": "TxqMF664_cQC",
        "outputId": "53d20e42-3aa6-4abd-c1c5-055742dfdbb5"
      },
      "source": [
        "dados.boxplot(['Valor'])"
      ],
      "execution_count": 14,
      "outputs": [
        {
          "output_type": "execute_result",
          "data": {
            "text/plain": [
              "<matplotlib.axes._subplots.AxesSubplot at 0x7f9af11c8f10>"
            ]
          },
          "metadata": {
            "tags": []
          },
          "execution_count": 14
        },
        {
          "output_type": "display_data",
          "data": {
            "image/png": "[encoded data removed]",
            "text/plain": [
              "<Figure size 1440x576 with 1 Axes>"
            ]
          },
          "metadata": {
            "tags": [],
            "needs_background": "light"
          }
        }
      ]
    },
    {
      "cell_type": "code",
      "metadata": {
        "colab": {
          "base_uri": "https://localhost:8080/",
          "height": 204
        },
        "id": "ACgTgSnLArfo",
        "outputId": "e5e7b0aa-ea78-44c4-d62e-d3ce93760d2f"
      },
      "source": [
        "dados[dados['Valor'] >= 500000]"
      ],
      "execution_count": 15,
      "outputs": [
        {
          "output_type": "execute_result",
          "data": {
            "text/html": [
              "<div>\n",
              "<style scoped>\n",
              "    .dataframe tbody tr th:only-of-type {\n",
              "        vertical-align: middle;\n",
              "    }\n",
              "\n",
              "    .dataframe tbody tr th {\n",
              "        vertical-align: top;\n",
              "    }\n",
              "\n",
              "    .dataframe thead th {\n",
              "        text-align: right;\n",
              "    }\n",
              "</style>\n",
              "<table border=\"1\" class=\"dataframe\">\n",
              "  <thead>\n",
              "    <tr style=\"text-align: right;\">\n",
              "      <th></th>\n",
              "      <th>Tipo</th>\n",
              "      <th>Bairro</th>\n",
              "      <th>Quartos</th>\n",
              "      <th>Vagas</th>\n",
              "      <th>Suites</th>\n",
              "      <th>Area</th>\n",
              "      <th>Valor</th>\n",
              "      <th>Condominio</th>\n",
              "      <th>IPTU</th>\n",
              "    </tr>\n",
              "  </thead>\n",
              "  <tbody>\n",
              "    <tr>\n",
              "      <th>7894</th>\n",
              "      <td>Apartamento</td>\n",
              "      <td>Barra da Tijuca</td>\n",
              "      <td>1</td>\n",
              "      <td>1</td>\n",
              "      <td>0</td>\n",
              "      <td>65</td>\n",
              "      <td>600000.0</td>\n",
              "      <td>980.0</td>\n",
              "      <td>120.0</td>\n",
              "    </tr>\n",
              "    <tr>\n",
              "      <th>11013</th>\n",
              "      <td>Casa de Condomínio</td>\n",
              "      <td>Freguesia (Jacarepaguá)</td>\n",
              "      <td>4</td>\n",
              "      <td>2</td>\n",
              "      <td>3</td>\n",
              "      <td>163</td>\n",
              "      <td>800000.0</td>\n",
              "      <td>900.0</td>\n",
              "      <td>NaN</td>\n",
              "    </tr>\n",
              "    <tr>\n",
              "      <th>13099</th>\n",
              "      <td>Apartamento</td>\n",
              "      <td>Freguesia (Jacarepaguá)</td>\n",
              "      <td>2</td>\n",
              "      <td>2</td>\n",
              "      <td>1</td>\n",
              "      <td>150</td>\n",
              "      <td>550000.0</td>\n",
              "      <td>850.0</td>\n",
              "      <td>150.0</td>\n",
              "    </tr>\n",
              "    <tr>\n",
              "      <th>14325</th>\n",
              "      <td>Apartamento</td>\n",
              "      <td>Recreio dos Bandeirantes</td>\n",
              "      <td>3</td>\n",
              "      <td>2</td>\n",
              "      <td>1</td>\n",
              "      <td>167</td>\n",
              "      <td>1250000.0</td>\n",
              "      <td>1186.0</td>\n",
              "      <td>320.0</td>\n",
              "    </tr>\n",
              "    <tr>\n",
              "      <th>16056</th>\n",
              "      <td>Apartamento</td>\n",
              "      <td>Botafogo</td>\n",
              "      <td>4</td>\n",
              "      <td>1</td>\n",
              "      <td>1</td>\n",
              "      <td>300</td>\n",
              "      <td>4500000.0</td>\n",
              "      <td>1100.0</td>\n",
              "      <td>NaN</td>\n",
              "    </tr>\n",
              "  </tbody>\n",
              "</table>\n",
              "</div>"
            ],
            "text/plain": [
              "                     Tipo                    Bairro  ...  Condominio   IPTU\n",
              "7894          Apartamento           Barra da Tijuca  ...       980.0  120.0\n",
              "11013  Casa de Condomínio   Freguesia (Jacarepaguá)  ...       900.0    NaN\n",
              "13099         Apartamento   Freguesia (Jacarepaguá)  ...       850.0  150.0\n",
              "14325         Apartamento  Recreio dos Bandeirantes  ...      1186.0  320.0\n",
              "16056         Apartamento                  Botafogo  ...      1100.0    NaN\n",
              "\n",
              "[5 rows x 9 columns]"
            ]
          },
          "metadata": {
            "tags": []
          },
          "execution_count": 15
        }
      ]
    },
    {
      "cell_type": "code",
      "metadata": {
        "id": "qM21mCSuHbeF"
      },
      "source": [
        "valor = dados['Valor']"
      ],
      "execution_count": 16,
      "outputs": []
    },
    {
      "cell_type": "markdown",
      "metadata": {
        "id": "3StXaLEcL8Nx"
      },
      "source": [
        "![box-plot-explicacao.jpg](data:image/jpeg;base64,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)"
      ]
    },
    {
      "cell_type": "markdown",
      "metadata": {
        "id": "A7iWojyGIk7K"
      },
      "source": [
        "![box-plot.png](data:image/png;base64,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)"
      ]
    },
    {
      "cell_type": "code",
      "metadata": {
        "id": "Ekuq8I7dI2xD"
      },
      "source": [
        "Q1 = valor.quantile(.25)\n",
        "Q3 = valor.quantile(.75)\n",
        "IIQ = Q3 - Q1\n",
        "limite_inferior = Q1 - 1.5 * IIQ\n",
        "limite_superior = Q3 + 1.5 * IIQ"
      ],
      "execution_count": 17,
      "outputs": []
    },
    {
      "cell_type": "code",
      "metadata": {
        "id": "2x-C3vfzJSbw"
      },
      "source": [
        "selecao = (valor >= limite_inferior) & (valor <= limite_superior)\n",
        "dados_new = dados[selecao]"
      ],
      "execution_count": 18,
      "outputs": []
    },
    {
      "cell_type": "code",
      "metadata": {
        "colab": {
          "base_uri": "https://localhost:8080/",
          "height": 500
        },
        "id": "ZiVDJddYJsNw",
        "outputId": "fec1045c-48bf-467c-d614-7f03c34354e3"
      },
      "source": [
        "dados_new.boxplot(['Valor'])"
      ],
      "execution_count": 19,
      "outputs": [
        {
          "output_type": "execute_result",
          "data": {
            "text/plain": [
              "<matplotlib.axes._subplots.AxesSubplot at 0x7f9af1127190>"
            ]
          },
          "metadata": {
            "tags": []
          },
          "execution_count": 19
        },
        {
          "output_type": "display_data",
          "data": {
            "image/png": "[encoded data removed]",
            "text/plain": [
              "<Figure size 1440x576 with 1 Axes>"
            ]
          },
          "metadata": {
            "tags": [],
            "needs_background": "light"
          }
        }
      ]
    },
    {
      "cell_type": "code",
      "metadata": {
        "colab": {
          "base_uri": "https://localhost:8080/",
          "height": 533
        },
        "id": "8hvdZm3tJ46f",
        "outputId": "40360644-feaa-4bb5-e5d9-8569c53b676d"
      },
      "source": [
        "dados_new.hist(['Valor'])"
      ],
      "execution_count": 20,
      "outputs": [
        {
          "output_type": "execute_result",
          "data": {
            "text/plain": [
              "array([[<matplotlib.axes._subplots.AxesSubplot object at 0x7f9af0c542d0>]],\n",
              "      dtype=object)"
            ]
          },
          "metadata": {
            "tags": []
          },
          "execution_count": 20
        },
        {
          "output_type": "display_data",
          "data": {
            "image/png": "[encoded data removed]",
            "text/plain": [
              "<Figure size 1440x576 with 1 Axes>"
            ]
          },
          "metadata": {
            "tags": [],
            "needs_background": "light"
          }
        }
      ]
    },
    {
      "cell_type": "code",
      "metadata": {
        "colab": {
          "base_uri": "https://localhost:8080/",
          "height": 611
        },
        "id": "ECvnMmwfKO0d",
        "outputId": "bfbe63ab-0b35-4504-a9a3-055a3a73779b"
      },
      "source": [
        "dados.boxplot(['Valor'], by = ['Tipo'])"
      ],
      "execution_count": 21,
      "outputs": [
        {
          "output_type": "stream",
          "text": [
            "/usr/local/lib/python3.7/dist-packages/numpy/core/_asarray.py:83: VisibleDeprecationWarning: Creating an ndarray from ragged nested sequences (which is a list-or-tuple of lists-or-tuples-or ndarrays with different lengths or shapes) is deprecated. If you meant to do this, you must specify 'dtype=object' when creating the ndarray\n",
            "  return array(a, dtype, copy=False, order=order)\n"
          ],
          "name": "stderr"
        },
        {
          "output_type": "execute_result",
          "data": {
            "text/plain": [
              "<matplotlib.axes._subplots.AxesSubplot at 0x7f9af1cf6e10>"
            ]
          },
          "metadata": {
            "tags": []
          },
          "execution_count": 21
        },
        {
          "output_type": "display_data",
          "data": {
            "image/png": "[encoded data removed]",
            "text/plain": [
              "<Figure size 1440x576 with 1 Axes>"
            ]
          },
          "metadata": {
            "tags": [],
            "needs_background": "light"
          }
        }
      ]
    },
    {
      "cell_type": "code",
      "metadata": {
        "id": "zU2z0HkjOj3q"
      },
      "source": [
        "grupo_tipo = dados.groupby('Tipo')['Valor']"
      ],
      "execution_count": 22,
      "outputs": []
    },
    {
      "cell_type": "code",
      "metadata": {
        "colab": {
          "base_uri": "https://localhost:8080/"
        },
        "id": "ljF107u1O3yr",
        "outputId": "0c2bd865-efcc-4f2a-a2a4-a82ace1ca30f"
      },
      "source": [
        "type(grupo_tipo)"
      ],
      "execution_count": 23,
      "outputs": [
        {
          "output_type": "execute_result",
          "data": {
            "text/plain": [
              "pandas.core.groupby.generic.SeriesGroupBy"
            ]
          },
          "metadata": {
            "tags": []
          },
          "execution_count": 23
        }
      ]
    },
    {
      "cell_type": "code",
      "metadata": {
        "id": "Row7NOIZO58l"
      },
      "source": [
        "Q1 = grupo_tipo.quantile(.25)\n",
        "Q3 = grupo_tipo.quantile(.75)\n",
        "IIQ = Q3 - Q1\n",
        "limite_inferior = Q1 - 1.5 * IIQ\n",
        "limite_superior = Q3 + 1.5 * IIQ"
      ],
      "execution_count": 24,
      "outputs": []
    },
    {
      "cell_type": "code",
      "metadata": {
        "id": "7XMA9eLoPfNc"
      },
      "source": [
        "dados_new = pd.DataFrame()\n",
        "for tipo in grupo_tipo.groups.keys():\n",
        "  eh_tipo = dados['Tipo'] == tipo\n",
        "  eh_dentro_limite = (dados['Valor'] >= limite_inferior[tipo]) & (dados['Valor'] <= limite_superior[tipo])\n",
        "  selecao = eh_tipo & eh_dentro_limite\n",
        "  dados_selecao = dados[selecao]\n",
        "  dados_new = pd.concat([dados_new, dados_selecao])"
      ],
      "execution_count": 25,
      "outputs": []
    },
    {
      "cell_type": "code",
      "metadata": {
        "colab": {
          "base_uri": "https://localhost:8080/",
          "height": 611
        },
        "id": "M3w07e2HQtTA",
        "outputId": "1fe4ed56-fb96-4858-cd5f-e80245332113"
      },
      "source": [
        "dados_new.boxplot(['Valor'], by = ['Tipo'])"
      ],
      "execution_count": 26,
      "outputs": [
        {
          "output_type": "stream",
          "text": [
            "/usr/local/lib/python3.7/dist-packages/numpy/core/_asarray.py:83: VisibleDeprecationWarning: Creating an ndarray from ragged nested sequences (which is a list-or-tuple of lists-or-tuples-or ndarrays with different lengths or shapes) is deprecated. If you meant to do this, you must specify 'dtype=object' when creating the ndarray\n",
            "  return array(a, dtype, copy=False, order=order)\n"
          ],
          "name": "stderr"
        },
        {
          "output_type": "execute_result",
          "data": {
            "text/plain": [
              "<matplotlib.axes._subplots.AxesSubplot at 0x7f9af0ac9e90>"
            ]
          },
          "metadata": {
            "tags": []
          },
          "execution_count": 26
        },
        {
          "output_type": "display_data",
          "data": {
            "image/png": "[encoded data removed]",
            "text/plain": [
              "<Figure size 1440x576 with 1 Axes>"
            ]
          },
          "metadata": {
            "tags": [],
            "needs_background": "light"
          }
        }
      ]
    },
    {
      "cell_type": "code",
      "metadata": {
        "id": "-yYY7kZhQ0V7"
      },
      "source": [
        "#dados_new.to_csv('/content/drive/MyDrive/Colab Notebooks/Dados/extras/aluguel_residencial_sem_outliers.csv', sep = ';', index = False)"
      ],
      "execution_count": 27,
      "outputs": []
    },
    {
      "cell_type": "markdown",
      "metadata": {
        "id": "6w-9skoaSLiG"
      },
      "source": [
        "# Gráficos Conjuntos"
      ]
    },
    {
      "cell_type": "code",
      "metadata": {
        "colab": {
          "base_uri": "https://localhost:8080/",
          "height": 34
        },
        "id": "EQ8W3qscRht0",
        "outputId": "be22827f-7665-4331-9e12-bda01c0ef514"
      },
      "source": [
        "# Criando figura area\n",
        "area = plt.figure()"
      ],
      "execution_count": 28,
      "outputs": [
        {
          "output_type": "display_data",
          "data": {
            "text/plain": [
              "<Figure size 1440x576 with 0 Axes>"
            ]
          },
          "metadata": {
            "tags": []
          }
        }
      ]
    },
    {
      "cell_type": "code",
      "metadata": {
        "id": "aMB66RBcSW3d"
      },
      "source": [
        "g1 = area.add_subplot(2, 2, 1)  # Duas Linhas e Duas Colunas, este gráfico será o primeiro\n",
        "g2 = area.add_subplot(2, 2, 2)\n",
        "g3 = area.add_subplot(2, 2, 3)\n",
        "g4 = area.add_subplot(2, 2, 4)"
      ],
      "execution_count": 29,
      "outputs": []
    },
    {
      "cell_type": "code",
      "metadata": {
        "colab": {
          "base_uri": "https://localhost:8080/"
        },
        "id": "l67zL2x8Sody",
        "outputId": "a62ef301-65e6-41c0-db7f-2e1a30d4d638"
      },
      "source": [
        "g1.scatter(dados_new.Valor, dados_new.Area)\n",
        "g1.set_title('Valor X Área')\n",
        "\n",
        "g2.hist(dados_new.Valor)\n",
        "g2.set_title('Histograma')\n",
        "\n",
        "dados_g3 = dados_new.Valor.sample(100)    # Amostra de 100 dados aleatórios\n",
        "dados_g3.index = range(dados_g3.shape[0])   # Conserta o index\n",
        "g3.plot(dados_g3)\n",
        "g3.set_title('Amostra Valor')\n",
        "\n",
        "grupo = dados_new.groupby('Tipo')['Valor']\n",
        "label = grupo.mean().index\n",
        "valores = grupo.mean().values\n",
        "g4.bar(label, valores)\n",
        "g4.set_title('Valor Médio por Tipo')"
      ],
      "execution_count": 30,
      "outputs": [
        {
          "output_type": "execute_result",
          "data": {
            "text/plain": [
              "Text(0.5, 1.0, 'Valor Médio por Tipo')"
            ]
          },
          "metadata": {
            "tags": []
          },
          "execution_count": 30
        }
      ]
    },
    {
      "cell_type": "code",
      "metadata": {
        "colab": {
          "base_uri": "https://localhost:8080/",
          "height": 499
        },
        "id": "FkRAbAzpTygs",
        "outputId": "937c5804-8dd3-4049-a2f2-89940d3b412c"
      },
      "source": [
        "area"
      ],
      "execution_count": 31,
      "outputs": [
        {
          "output_type": "execute_result",
          "data": {
            "image/png": "[encoded data removed]",
            "text/plain": [
              "<Figure size 1440x576 with 4 Axes>"
            ]
          },
          "metadata": {
            "tags": []
          },
          "execution_count": 31
        }
      ]
    },
    {
      "cell_type": "code",
      "metadata": {
        "id": "oVwbVN7PT2By"
      },
      "source": [
        "# area.savefig('grafico.png', dpi = 300, bbox_inches = 'tight')"
      ],
      "execution_count": 32,
      "outputs": []
    },
    {
      "cell_type": "code",
      "metadata": {
        "id": "VCAPybeEW0GN"
      },
      "source": [
        "casa = ['Casa', 'Casa de Condomínio', 'Casa de Vila']"
      ],
      "execution_count": 33,
      "outputs": []
    },
    {
      "cell_type": "code",
      "metadata": {
        "id": "4WE58_lCZ0uB"
      },
      "source": [
        "dados['Tipo Agregado'] = dados['Tipo'].apply(lambda x: 'Casa' if x in casa else 'Apartamento')"
      ],
      "execution_count": 34,
      "outputs": []
    },
    {
      "cell_type": "code",
      "metadata": {
        "colab": {
          "base_uri": "https://localhost:8080/",
          "height": 34
        },
        "id": "tFMEB5LdVWj2",
        "outputId": "05be9349-6f3c-4b91-8f26-cf45312151dc"
      },
      "source": [
        "area = plt.figure()"
      ],
      "execution_count": 35,
      "outputs": [
        {
          "output_type": "display_data",
          "data": {
            "text/plain": [
              "<Figure size 1440x576 with 0 Axes>"
            ]
          },
          "metadata": {
            "tags": []
          }
        }
      ]
    },
    {
      "cell_type": "code",
      "metadata": {
        "id": "V_9BsplmWW0o"
      },
      "source": [
        "g1 = area.add_subplot(1, 2, 1)\n",
        "g2 = area.add_subplot(1, 2, 2)"
      ],
      "execution_count": 36,
      "outputs": []
    },
    {
      "cell_type": "code",
      "metadata": {
        "colab": {
          "base_uri": "https://localhost:8080/"
        },
        "id": "I38F6_e0Vn8_",
        "outputId": "4e739578-02dc-4d86-abd7-97ce5f591da8"
      },
      "source": [
        "grupo1 = dados.groupby('Tipo Agregado')['Valor']\n",
        "label = grupo1.count().index\n",
        "valores = grupo1.count().values\n",
        "g1.pie(valores, labels = label, autopct='%1.1f%%')\n",
        "g1.set_title('Total de Imóveis por Tipo Agregado')\n",
        "\n",
        "grupo2 = dados.groupby('Tipo')['Valor']\n",
        "label = grupo2.count().index\n",
        "valores = grupo2.count().values\n",
        "g2.pie(valores, labels = label, autopct='%1.1f%%', explode = (.1, .1, .1, .1, .1))\n",
        "g2.set_title('Total de Imóveis por Tipo')"
      ],
      "execution_count": 37,
      "outputs": [
        {
          "output_type": "execute_result",
          "data": {
            "text/plain": [
              "Text(0.5, 1.0, 'Total de Imóveis por Tipo')"
            ]
          },
          "metadata": {
            "tags": []
          },
          "execution_count": 37
        }
      ]
    },
    {
      "cell_type": "code",
      "metadata": {
        "colab": {
          "base_uri": "https://localhost:8080/",
          "height": 482
        },
        "id": "eGBf-1NYXrMI",
        "outputId": "ededbc1e-a631-4c41-e2df-f456ea50aad5"
      },
      "source": [
        "area"
      ],
      "execution_count": 38,
      "outputs": [
        {
          "output_type": "execute_result",
          "data": {
            "image/png": "[encoded data removed]",
            "text/plain": [
              "<Figure size 1440x576 with 2 Axes>"
            ]
          },
          "metadata": {
            "tags": []
          },
          "execution_count": 38
        }
      ]
    },
    {
      "cell_type": "markdown",
      "metadata": {
        "id": "7E3IoVOGaBgs"
      },
      "source": [
        "# Análise de Filmes"
      ]
    },
    {
      "cell_type": "code",
      "metadata": {
        "id": "rFzRMM2JaFuS"
      },
      "source": [
        "import seaborn as sns"
      ],
      "execution_count": 39,
      "outputs": []
    },
    {
      "cell_type": "code",
      "metadata": {
        "colab": {
          "base_uri": "https://localhost:8080/",
          "height": 649
        },
        "id": "cxked-qaaQSY",
        "outputId": "96eefe0e-f260-4f95-ab59-e3d0e077c83f"
      },
      "source": [
        "movies = pd.read_csv('/content/drive/MyDrive/Colab Notebooks/Dados/movies/tmdb_5000_movies.csv')\n",
        "movies.head()"
      ],
      "execution_count": 41,
      "outputs": [
        {
          "output_type": "execute_result",
          "data": {
            "text/html": [
              "<div>\n",
              "<style scoped>\n",
              "    .dataframe tbody tr th:only-of-type {\n",
              "        vertical-align: middle;\n",
              "    }\n",
              "\n",
              "    .dataframe tbody tr th {\n",
              "        vertical-align: top;\n",
              "    }\n",
              "\n",
              "    .dataframe thead th {\n",
              "        text-align: right;\n",
              "    }\n",
              "</style>\n",
              "<table border=\"1\" class=\"dataframe\">\n",
              "  <thead>\n",
              "    <tr style=\"text-align: right;\">\n",
              "      <th></th>\n",
              "      <th>budget</th>\n",
              "      <th>genres</th>\n",
              "      <th>homepage</th>\n",
              "      <th>id</th>\n",
              "      <th>keywords</th>\n",
              "      <th>original_language</th>\n",
              "      <th>original_title</th>\n",
              "      <th>overview</th>\n",
              "      <th>popularity</th>\n",
              "      <th>production_companies</th>\n",
              "      <th>production_countries</th>\n",
              "      <th>release_date</th>\n",
              "      <th>revenue</th>\n",
              "      <th>runtime</th>\n",
              "      <th>spoken_languages</th>\n",
              "      <th>status</th>\n",
              "      <th>tagline</th>\n",
              "      <th>title</th>\n",
              "      <th>vote_average</th>\n",
              "      <th>vote_count</th>\n",
              "    </tr>\n",
              "  </thead>\n",
              "  <tbody>\n",
              "    <tr>\n",
              "      <th>0</th>\n",
              "      <td>237000000</td>\n",
              "      <td>[{\"id\": 28, \"name\": \"Action\"}, {\"id\": 12, \"nam...</td>\n",
              "      <td>http://www.avatarmovie.com/</td>\n",
              "      <td>19995</td>\n",
              "      <td>[{\"id\": 1463, \"name\": \"culture clash\"}, {\"id\":...</td>\n",
              "      <td>en</td>\n",
              "      <td>Avatar</td>\n",
              "      <td>In the 22nd century, a paraplegic Marine is di...</td>\n",
              "      <td>150.437577</td>\n",
              "      <td>[{\"name\": \"Ingenious Film Partners\", \"id\": 289...</td>\n",
              "      <td>[{\"iso_3166_1\": \"US\", \"name\": \"United States o...</td>\n",
              "      <td>2009-12-10</td>\n",
              "      <td>2787965087</td>\n",
              "      <td>162.0</td>\n",
              "      <td>[{\"iso_639_1\": \"en\", \"name\": \"English\"}, {\"iso...</td>\n",
              "      <td>Released</td>\n",
              "      <td>Enter the World of Pandora.</td>\n",
              "      <td>Avatar</td>\n",
              "      <td>7.2</td>\n",
              "      <td>11800</td>\n",
              "    </tr>\n",
              "    <tr>\n",
              "      <th>1</th>\n",
              "      <td>300000000</td>\n",
              "      <td>[{\"id\": 12, \"name\": \"Adventure\"}, {\"id\": 14, \"...</td>\n",
              "      <td>http://disney.go.com/disneypictures/pirates/</td>\n",
              "      <td>285</td>\n",
              "      <td>[{\"id\": 270, \"name\": \"ocean\"}, {\"id\": 726, \"na...</td>\n",
              "      <td>en</td>\n",
              "      <td>Pirates of the Caribbean: At World's End</td>\n",
              "      <td>Captain Barbossa, long believed to be dead, ha...</td>\n",
              "      <td>139.082615</td>\n",
              "      <td>[{\"name\": \"Walt Disney Pictures\", \"id\": 2}, {\"...</td>\n",
              "      <td>[{\"iso_3166_1\": \"US\", \"name\": \"United States o...</td>\n",
              "      <td>2007-05-19</td>\n",
              "      <td>961000000</td>\n",
              "      <td>169.0</td>\n",
              "      <td>[{\"iso_639_1\": \"en\", \"name\": \"English\"}]</td>\n",
              "      <td>Released</td>\n",
              "      <td>At the end of the world, the adventure begins.</td>\n",
              "      <td>Pirates of the Caribbean: At World's End</td>\n",
              "      <td>6.9</td>\n",
              "      <td>4500</td>\n",
              "    </tr>\n",
              "    <tr>\n",
              "      <th>2</th>\n",
              "      <td>245000000</td>\n",
              "      <td>[{\"id\": 28, \"name\": \"Action\"}, {\"id\": 12, \"nam...</td>\n",
              "      <td>http://www.sonypictures.com/movies/spectre/</td>\n",
              "      <td>206647</td>\n",
              "      <td>[{\"id\": 470, \"name\": \"spy\"}, {\"id\": 818, \"name...</td>\n",
              "      <td>en</td>\n",
              "      <td>Spectre</td>\n",
              "      <td>A cryptic message from Bond’s past sends him o...</td>\n",
              "      <td>107.376788</td>\n",
              "      <td>[{\"name\": \"Columbia Pictures\", \"id\": 5}, {\"nam...</td>\n",
              "      <td>[{\"iso_3166_1\": \"GB\", \"name\": \"United Kingdom\"...</td>\n",
              "      <td>2015-10-26</td>\n",
              "      <td>880674609</td>\n",
              "      <td>148.0</td>\n",
              "      <td>[{\"iso_639_1\": \"fr\", \"name\": \"Fran\\u00e7ais\"},...</td>\n",
              "      <td>Released</td>\n",
              "      <td>A Plan No One Escapes</td>\n",
              "      <td>Spectre</td>\n",
              "      <td>6.3</td>\n",
              "      <td>4466</td>\n",
              "    </tr>\n",
              "    <tr>\n",
              "      <th>3</th>\n",
              "      <td>250000000</td>\n",
              "      <td>[{\"id\": 28, \"name\": \"Action\"}, {\"id\": 80, \"nam...</td>\n",
              "      <td>http://www.thedarkknightrises.com/</td>\n",
              "      <td>49026</td>\n",
              "      <td>[{\"id\": 849, \"name\": \"dc comics\"}, {\"id\": 853,...</td>\n",
              "      <td>en</td>\n",
              "      <td>The Dark Knight Rises</td>\n",
              "      <td>Following the death of District Attorney Harve...</td>\n",
              "      <td>112.312950</td>\n",
              "      <td>[{\"name\": \"Legendary Pictures\", \"id\": 923}, {\"...</td>\n",
              "      <td>[{\"iso_3166_1\": \"US\", \"name\": \"United States o...</td>\n",
              "      <td>2012-07-16</td>\n",
              "      <td>1084939099</td>\n",
              "      <td>165.0</td>\n",
              "      <td>[{\"iso_639_1\": \"en\", \"name\": \"English\"}]</td>\n",
              "      <td>Released</td>\n",
              "      <td>The Legend Ends</td>\n",
              "      <td>The Dark Knight Rises</td>\n",
              "      <td>7.6</td>\n",
              "      <td>9106</td>\n",
              "    </tr>\n",
              "    <tr>\n",
              "      <th>4</th>\n",
              "      <td>260000000</td>\n",
              "      <td>[{\"id\": 28, \"name\": \"Action\"}, {\"id\": 12, \"nam...</td>\n",
              "      <td>http://movies.disney.com/john-carter</td>\n",
              "      <td>49529</td>\n",
              "      <td>[{\"id\": 818, \"name\": \"based on novel\"}, {\"id\":...</td>\n",
              "      <td>en</td>\n",
              "      <td>John Carter</td>\n",
              "      <td>John Carter is a war-weary, former military ca...</td>\n",
              "      <td>43.926995</td>\n",
              "      <td>[{\"name\": \"Walt Disney Pictures\", \"id\": 2}]</td>\n",
              "      <td>[{\"iso_3166_1\": \"US\", \"name\": \"United States o...</td>\n",
              "      <td>2012-03-07</td>\n",
              "      <td>284139100</td>\n",
              "      <td>132.0</td>\n",
              "      <td>[{\"iso_639_1\": \"en\", \"name\": \"English\"}]</td>\n",
              "      <td>Released</td>\n",
              "      <td>Lost in our world, found in another.</td>\n",
              "      <td>John Carter</td>\n",
              "      <td>6.1</td>\n",
              "      <td>2124</td>\n",
              "    </tr>\n",
              "  </tbody>\n",
              "</table>\n",
              "</div>"
            ],
            "text/plain": [
              "      budget  ... vote_count\n",
              "0  237000000  ...      11800\n",
              "1  300000000  ...       4500\n",
              "2  245000000  ...       4466\n",
              "3  250000000  ...       9106\n",
              "4  260000000  ...       2124\n",
              "\n",
              "[5 rows x 20 columns]"
            ]
          },
          "metadata": {
            "tags": []
          },
          "execution_count": 41
        }
      ]
    },
    {
      "cell_type": "code",
      "metadata": {
        "colab": {
          "base_uri": "https://localhost:8080/"
        },
        "id": "yvCsDdInatEG",
        "outputId": "c463c059-2013-477f-b9cb-e47b30295a42"
      },
      "source": [
        "movies.original_language.unique()   # Categoria Nominal"
      ],
      "execution_count": 42,
      "outputs": [
        {
          "output_type": "execute_result",
          "data": {
            "text/plain": [
              "array(['en', 'ja', 'fr', 'zh', 'es', 'de', 'hi', 'ru', 'ko', 'te', 'cn',\n",
              "       'it', 'nl', 'ta', 'sv', 'th', 'da', 'xx', 'hu', 'cs', 'pt', 'is',\n",
              "       'tr', 'nb', 'af', 'pl', 'he', 'ar', 'vi', 'ky', 'id', 'ro', 'fa',\n",
              "       'no', 'sl', 'ps', 'el'], dtype=object)"
            ]
          },
          "metadata": {
            "tags": []
          },
          "execution_count": 42
        }
      ]
    },
    {
      "cell_type": "code",
      "metadata": {
        "colab": {
          "base_uri": "https://localhost:8080/",
          "height": 204
        },
        "id": "yI8SCjSxb5X9",
        "outputId": "bca64a85-ea78-4db7-a8ce-be3f2a8c8c6b"
      },
      "source": [
        "contagem_de_lingua = movies[\"original_language\"].value_counts().to_frame().reset_index()\n",
        "contagem_de_lingua.columns = [\"original_language\", \"total\"]\n",
        "contagem_de_lingua.head()"
      ],
      "execution_count": 43,
      "outputs": [
        {
          "output_type": "execute_result",
          "data": {
            "text/html": [
              "<div>\n",
              "<style scoped>\n",
              "    .dataframe tbody tr th:only-of-type {\n",
              "        vertical-align: middle;\n",
              "    }\n",
              "\n",
              "    .dataframe tbody tr th {\n",
              "        vertical-align: top;\n",
              "    }\n",
              "\n",
              "    .dataframe thead th {\n",
              "        text-align: right;\n",
              "    }\n",
              "</style>\n",
              "<table border=\"1\" class=\"dataframe\">\n",
              "  <thead>\n",
              "    <tr style=\"text-align: right;\">\n",
              "      <th></th>\n",
              "      <th>original_language</th>\n",
              "      <th>total</th>\n",
              "    </tr>\n",
              "  </thead>\n",
              "  <tbody>\n",
              "    <tr>\n",
              "      <th>0</th>\n",
              "      <td>en</td>\n",
              "      <td>4505</td>\n",
              "    </tr>\n",
              "    <tr>\n",
              "      <th>1</th>\n",
              "      <td>fr</td>\n",
              "      <td>70</td>\n",
              "    </tr>\n",
              "    <tr>\n",
              "      <th>2</th>\n",
              "      <td>es</td>\n",
              "      <td>32</td>\n",
              "    </tr>\n",
              "    <tr>\n",
              "      <th>3</th>\n",
              "      <td>de</td>\n",
              "      <td>27</td>\n",
              "    </tr>\n",
              "    <tr>\n",
              "      <th>4</th>\n",
              "      <td>zh</td>\n",
              "      <td>27</td>\n",
              "    </tr>\n",
              "  </tbody>\n",
              "</table>\n",
              "</div>"
            ],
            "text/plain": [
              "  original_language  total\n",
              "0                en   4505\n",
              "1                fr     70\n",
              "2                es     32\n",
              "3                de     27\n",
              "4                zh     27"
            ]
          },
          "metadata": {
            "tags": []
          },
          "execution_count": 43
        }
      ]
    },
    {
      "cell_type": "code",
      "metadata": {
        "colab": {
          "base_uri": "https://localhost:8080/",
          "height": 401
        },
        "id": "HJUciNA8cH1-",
        "outputId": "68d42e3e-21b1-4298-855d-65f62120d139"
      },
      "source": [
        "sns.catplot(x = \"original_language\", kind=\"count\", data = movies, aspect=2)"
      ],
      "execution_count": 46,
      "outputs": [
        {
          "output_type": "execute_result",
          "data": {
            "text/plain": [
              "<seaborn.axisgrid.FacetGrid at 0x7f9ae11234d0>"
            ]
          },
          "metadata": {
            "tags": []
          },
          "execution_count": 46
        },
        {
          "output_type": "display_data",
          "data": {
            "image/png": "[encoded data removed]",
            "text/plain": [
              "<Figure size 720x360 with 1 Axes>"
            ]
          },
          "metadata": {
            "tags": [],
            "needs_background": "light"
          }
        }
      ]
    },
    {
      "cell_type": "code",
      "metadata": {
        "colab": {
          "base_uri": "https://localhost:8080/"
        },
        "id": "vx_1Qi2xcOY7",
        "outputId": "2336fb5a-cd6a-4f3c-c755-55762f0a3c23"
      },
      "source": [
        "total_ingles = movies.query(\"original_language == 'en'\").original_language.value_counts()\n",
        "total_ingles"
      ],
      "execution_count": 47,
      "outputs": [
        {
          "output_type": "execute_result",
          "data": {
            "text/plain": [
              "en    4505\n",
              "Name: original_language, dtype: int64"
            ]
          },
          "metadata": {
            "tags": []
          },
          "execution_count": 47
        }
      ]
    },
    {
      "cell_type": "code",
      "metadata": {
        "colab": {
          "base_uri": "https://localhost:8080/"
        },
        "id": "qwVguw0qjLhv",
        "outputId": "e41c9e52-f905-4db3-9aba-13f27b523ce3"
      },
      "source": [
        "total_ingles.values"
      ],
      "execution_count": 55,
      "outputs": [
        {
          "output_type": "execute_result",
          "data": {
            "text/plain": [
              "array([4505])"
            ]
          },
          "metadata": {
            "tags": []
          },
          "execution_count": 55
        }
      ]
    },
    {
      "cell_type": "code",
      "metadata": {
        "colab": {
          "base_uri": "https://localhost:8080/"
        },
        "id": "4qArDuPOdBpF",
        "outputId": "20d5ffc0-e6d5-4f1f-c5ee-316a2fc67257"
      },
      "source": [
        "outros = movies.query(\"original_language != 'en'\")\n",
        "total_outros = outros.original_language.value_counts()\n",
        "total_outros"
      ],
      "execution_count": 65,
      "outputs": [
        {
          "output_type": "execute_result",
          "data": {
            "text/plain": [
              "fr    70\n",
              "es    32\n",
              "de    27\n",
              "zh    27\n",
              "hi    19\n",
              "ja    16\n",
              "it    14\n",
              "cn    12\n",
              "ko    11\n",
              "ru    11\n",
              "pt     9\n",
              "da     7\n",
              "sv     5\n",
              "fa     4\n",
              "nl     4\n",
              "he     3\n",
              "th     3\n",
              "cs     2\n",
              "ar     2\n",
              "id     2\n",
              "ta     2\n",
              "ro     2\n",
              "pl     1\n",
              "te     1\n",
              "ps     1\n",
              "vi     1\n",
              "hu     1\n",
              "xx     1\n",
              "no     1\n",
              "nb     1\n",
              "is     1\n",
              "sl     1\n",
              "ky     1\n",
              "el     1\n",
              "tr     1\n",
              "af     1\n",
              "Name: original_language, dtype: int64"
            ]
          },
          "metadata": {
            "tags": []
          },
          "execution_count": 65
        }
      ]
    },
    {
      "cell_type": "code",
      "metadata": {
        "colab": {
          "base_uri": "https://localhost:8080/"
        },
        "id": "uh1ihsu0kRZo",
        "outputId": "14d96364-ee3d-416f-d7ce-4938c3bd04da"
      },
      "source": [
        "total_outros_soma = total_outros.sum()\n",
        "total_outros_soma"
      ],
      "execution_count": 64,
      "outputs": [
        {
          "output_type": "execute_result",
          "data": {
            "text/plain": [
              "298"
            ]
          },
          "metadata": {
            "tags": []
          },
          "execution_count": 64
        }
      ]
    },
    {
      "cell_type": "code",
      "metadata": {
        "colab": {
          "base_uri": "https://localhost:8080/",
          "height": 514
        },
        "id": "Zx71iV6rda3T",
        "outputId": "bc2f2490-0fa7-44c8-bcc4-2892ee1f7b66"
      },
      "source": [
        "dados = {\n",
        "    'lingua' : ['ingles', 'outros'],\n",
        "    'total' : [total_ingles.values[0], total_outros_soma]\n",
        "}\n",
        "\n",
        "dados = pd.DataFrame(dados)\n",
        "sns.barplot(x='lingua', y='total', data=dados)"
      ],
      "execution_count": 58,
      "outputs": [
        {
          "output_type": "execute_result",
          "data": {
            "text/plain": [
              "<matplotlib.axes._subplots.AxesSubplot at 0x7f9ae09cf950>"
            ]
          },
          "metadata": {
            "tags": []
          },
          "execution_count": 58
        },
        {
          "output_type": "display_data",
          "data": {
            "image/png": "[encoded data removed]",
            "text/plain": [
              "<Figure size 1440x576 with 1 Axes>"
            ]
          },
          "metadata": {
            "tags": [],
            "needs_background": "light"
          }
        }
      ]
    },
    {
      "cell_type": "code",
      "metadata": {
        "colab": {
          "base_uri": "https://localhost:8080/",
          "height": 401
        },
        "id": "xj3TLh3weHXA",
        "outputId": "9bf2e863-e4a0-4cfb-d494-c3ee15ef70c3"
      },
      "source": [
        "sns.catplot(x = \"original_language\", kind=\"count\", data = outros, aspect = 2)"
      ],
      "execution_count": 67,
      "outputs": [
        {
          "output_type": "execute_result",
          "data": {
            "text/plain": [
              "<seaborn.axisgrid.FacetGrid at 0x7f9ae08b7650>"
            ]
          },
          "metadata": {
            "tags": []
          },
          "execution_count": 67
        },
        {
          "output_type": "display_data",
          "data": {
            "image/png": "[encoded data removed]",
            "text/plain": [
              "<Figure size 720x360 with 1 Axes>"
            ]
          },
          "metadata": {
            "tags": [],
            "needs_background": "light"
          }
        }
      ]
    },
    {
      "cell_type": "code",
      "metadata": {
        "colab": {
          "base_uri": "https://localhost:8080/",
          "height": 401
        },
        "id": "Q0ZY3tDUj8Fy",
        "outputId": "89425fcc-252b-422e-e931-13e30bb803a6"
      },
      "source": [
        "sns.catplot(x = \"original_language\", kind=\"count\", data = outros, aspect = 2, palette = 'GnBu_d', order = total_outros.index)"
      ],
      "execution_count": 69,
      "outputs": [
        {
          "output_type": "execute_result",
          "data": {
            "text/plain": [
              "<seaborn.axisgrid.FacetGrid at 0x7f9ae035de90>"
            ]
          },
          "metadata": {
            "tags": []
          },
          "execution_count": 69
        },
        {
          "output_type": "display_data",
          "data": {
            "image/png": "[encoded data removed]",
            "text/plain": [
              "<Figure size 720x360 with 1 Axes>"
            ]
          },
          "metadata": {
            "tags": [],
            "needs_background": "light"
          }
        }
      ]
    }
  ]
}